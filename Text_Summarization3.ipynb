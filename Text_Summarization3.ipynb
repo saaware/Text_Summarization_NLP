{
 "cells": [
  {
   "cell_type": "code",
   "execution_count": 150,
   "id": "0787ac68",
   "metadata": {},
   "outputs": [
    {
     "name": "stdout",
     "output_type": "stream",
     "text": [
      "Shree Ganeshay Namh:\n"
     ]
    }
   ],
   "source": [
    "print(\"Shree Ganeshay Namh:\")"
   ]
  },
  {
   "cell_type": "code",
   "execution_count": 151,
   "id": "39fea5cb",
   "metadata": {},
   "outputs": [],
   "source": [
    "#original_text = 'Junk foods taste good that’s why it is mostly liked by everyone of any age group especially kids and school going children. They generally ask for the junk food daily because they have been trend so by their parents from the childhood. They never have been discussed by their parents about the harmful effects of junk foods over health. According to the research by scientists, it has been found that junk foods have negative effects on the health in many ways. They are generally fried food found in the market in the packets. They become high in calories, high in cholesterol, low in healthy nutrients, high in sodium mineral, high in sugar, starch, unhealthy fat, lack of protein and lack of dietary fibers. Processed and junk foods are the means of rapid and unhealthy weight gain and negatively impact the whole body throughout the life. It makes able a person to gain excessive weight which is called as obesity. Junk foods tastes good and looks good however do not fulfil the healthy calorie requirement of the body. Some of the foods like french fries, fried foods, pizza, burgers, candy, soft drinks, baked goods, ice cream, cookies, etc are the example of high-sugar and high-fat containing foods. It is found according to the Centres for Disease Control and Prevention that Kids and children eating junk food are more prone to the type-2 diabetes. In type-2 diabetes our body become unable to regulate blood sugar level. Risk of getting this disease is increasing as one become more obese or overweight. It increases the risk of kidney failure. Eating junk food daily lead us to the nutritional deficiencies in the body because it is lack of essential nutrients, vitamins, iron, minerals and dietary fibers. It increases risk of cardiovascular diseases because it is rich in saturated fat, sodium and bad cholesterol. High sodium and bad cholesterol diet increases blood pressure and overloads the heart functioning. One who like junk food develop more risk to put on extra weight and become fatter and unhealthier. Junk foods contain high level carbohydrate which spike blood sugar level and make person more lethargic, sleepy and less active and alert. Reflexes and senses of the people eating this food become dull day by day thus they live more sedentary life. Junk foods are the source of constipation and other disease like diabetes, heart ailments, clogged arteries, heart attack, strokes, etc because of being poor in nutrition. Junk food is the easiest way to gain unhealthy weight. The amount of fats and sugar in the food makes you gain weight rapidly. However, this is not a healthy weight. It is more of fats and cholesterol which will have a harmful impact on your health. Junk food is also one of the main reasons for the increase in obesity nowadays.This food only looks and tastes good, other than that, it has no positive points. The amount of calorie your body requires to stay fit is not fulfilled by this food. For instance, foods like French fries, burgers, candy, and cookies, all have high amounts of sugar and fats. Therefore, this can result in long-term illnesses like diabetes and high blood pressure. This may also result in kidney failure. Above all, you can get various nutritional deficiencies when you don’t consume the essential nutrients, vitamins, minerals and more. You become prone to cardiovascular diseases due to the consumption of bad cholesterol and fat plus sodium. In other words, all this interferes with the functioning of your heart. Furthermore, junk food contains a higher level of carbohydrates. It will instantly spike your blood sugar levels. This will result in lethargy, inactiveness, and sleepiness. A person reflex becomes dull overtime and they lead an inactive life. To make things worse, junk food also clogs your arteries and increases the risk of a heart attack. Therefore, it must be avoided at the first instance to save your life from becoming ruined.The main problem with junk food is that people don’t realize its ill effects now. When the time comes, it is too late. Most importantly, the issue is that it does not impact you instantly. It works on your overtime; you will face the consequences sooner or later. Thus, it is better to stop now.You can avoid junk food by encouraging your children from an early age to eat green vegetables. Their taste buds must be developed as such that they find healthy food tasty. Moreover, try to mix things up. Do not serve the same green vegetable daily in the same style. Incorporate different types of healthy food in their diet following different recipes. This will help them to try foods at home rather than being attracted to junk food.In short, do not deprive them completely of it as that will not help. Children will find one way or the other to have it. Make sure you give them junk food in limited quantities and at healthy periods of time. '"
   ]
  },
  {
   "cell_type": "code",
   "execution_count": 152,
   "id": "367f4e74",
   "metadata": {},
   "outputs": [],
   "source": [
    "# Installing and Importing sumy\n",
    "#!pip install sumy\n",
    "import sumy"
   ]
  },
  {
   "cell_type": "code",
   "execution_count": 153,
   "id": "fbda5894",
   "metadata": {},
   "outputs": [],
   "source": [
    "# Importing the parser and tokenizer\n",
    "from sumy.parsers.plaintext import PlaintextParser\n",
    "from sumy.nlp.tokenizers import Tokenizer"
   ]
  },
  {
   "cell_type": "code",
   "execution_count": 154,
   "id": "071006c6",
   "metadata": {},
   "outputs": [],
   "source": [
    "# Import the LexRank summarizer\n",
    "#from sumy.summarizers.lex_rank import LexRankSummarizer #high priority to similar sentence \n",
    "#from  sumy.summarizers.kl import KLSummarizer  #similarity of word distribution as the original text\n",
    "from sumy.summarizers.luhn import LuhnSummarizer  #based on sentence score value priority\n",
    "#from sumy.summarizers.lsa import LsaSummarizer  # applying singular matrix value"
   ]
  },
  {
   "cell_type": "code",
   "execution_count": 155,
   "id": "1327768d",
   "metadata": {},
   "outputs": [],
   "source": [
    "with open(\"abc.txt\",\"r\") as data:\n",
    "    my_text = data.read()\n",
    "\n",
    "    "
   ]
  },
  {
   "cell_type": "markdown",
   "id": "02690992",
   "metadata": {},
   "source": [
    "Taking data from API "
   ]
  },
  {
   "cell_type": "code",
   "execution_count": 156,
   "id": "524144c5",
   "metadata": {},
   "outputs": [],
   "source": [
    "# import the library we use to open URLs\n",
    "import bs4 as BeautifulSoup\n",
    "import urllib.request  "
   ]
  },
  {
   "cell_type": "code",
   "execution_count": 157,
   "id": "fb57fc23",
   "metadata": {},
   "outputs": [],
   "source": [
    "fetched_data = urllib.request.urlopen('https://en.wikipedia.org/wiki/20th_century')"
   ]
  },
  {
   "cell_type": "code",
   "execution_count": 158,
   "id": "b15432fb",
   "metadata": {},
   "outputs": [],
   "source": [
    "article_read = fetched_data.read()"
   ]
  },
  {
   "cell_type": "code",
   "execution_count": 159,
   "id": "dc30bcb7",
   "metadata": {},
   "outputs": [],
   "source": [
    "#parsing the URL content and storing in a variable\n",
    "article_parsed = BeautifulSoup.BeautifulSoup(article_read,'html.parser')\n",
    "\n",
    "#returning <p> tags\n",
    "paragraphs = article_parsed.find_all('p')\n",
    "\n",
    "article_content = ''\n",
    "\n",
    "#looping through the paragraphs and adding them to the variable\n",
    "for p in paragraphs:  \n",
    "    article_content += p.text"
   ]
  },
  {
   "cell_type": "code",
   "execution_count": 160,
   "id": "d2778aa5",
   "metadata": {},
   "outputs": [
    {
     "data": {
      "text/plain": [
       "'The 20th (twentieth) century began on\\nJanuary 1, 1901 (MCMI), and ended on December 31, 2000 (MM).[1]  The 20th century was dominated by significant events that defined the era: Spanish flu pandemic, World War I and World War II, nuclear weapons, nuclear power and space exploration, nationalism and decolonization, technological advances, and the Cold War and post-Cold War conflicts.\\nThe 20th century saw a massive transformation of the world order: global total fertility rates, sea level rise, and ecological collapses increased; the resulting competition for land and dwindling resources accelerated deforestation, water depletion, and the mass extinction of many of the world\\'s species and decline in the population of others; consequences which are now being dealt with. Man-made global warming increased the risk of extreme weather conditions.\\nAdditional themes include intergovernmental organizations and cultural homogenization through developments in emerging transportation and communications technology; poverty reduction and world population growth, awareness of environmental degradation, ecological extinction;[2][3] and the birth of the Digital Revolution. Automobiles, airplanes and the use of home appliances became common, as did video and audio recording. Great advances in power generation, communication, and medical technology allowed for near-instantaneous worldwide computer communication and genetic modification of life.\\nThe repercussions of the World Wars, Cold War, and globalization crafted a world where people are more united than any previous time in human history, as exemplified by the establishment of international law, international aid, and the United Nations. The Marshall Plan—which spent $13 billion ($100\\xa0billion in 2019 U.S. dollars)[4] to rebuild the economies of post-war nations—launched \"Pax Americana\". Throughout the latter half of the 20th century, the rivalry between the United States and the Soviet Union created enormous tensions around the world which manifested in various armed proxy regional conflicts and the omnipresent danger of nuclear proliferation. The dissolution of the Soviet Union in 1991 after the collapse of its European alliance was heralded by the West as the end of communism, though by the century\\'s end roughly one in six people on Earth lived under communist rule, mostly in China which was rapidly rising as an economic and geopolitical power.\\nIt took over two hundred thousand years of modern human history and 6 million years of human evolution for the world\\'s population to reach 1 billion in 1804;[5] world population reached an estimated 2 billion in 1927; by late 1999, the global population reached 6 billion, with over half in East, South and Southeast Asia.[6][7][8] Global literacy averaged 80%. Penicillin and other medical breakthroughs combined with the World Health Organization\\'s global campaigns to eradicate smallpox and other diseases responsible for more human deaths than all wars and natural disasters combined yielded unprecedented results; smallpox now only existed in labs.[citation needed] Machines came to be used in all areas of production, feeding increasingly intricate supply chains that allowed mankind for the first time to be constrained not by how much it could produce, but by peoples\\' willingness to consume. Trade improvements greatly expanded upon the limited set of food-producing techniques used since the Neolithic period, multiplying the diversity of foods available and boosting the quality of human nutrition. Until the early 19th century, life expectancy from birth was about thirty in most populations; global lifespan-averages exceeded 40 years for the first time in history, with over half achieving 70 or more years (three decades longer than a century earlier).[9]\\nThe 20th (twentieth) century began on\\nJanuary 1, 1901,[1] and ended on December 31, 2000.[10] The term is often used erroneously to refer to \"the 1900s\", the century between January 1, 1900 and December 31, 1999. It was the tenth and final century of the 2nd millennium. Unlike most century years, the year 2000 was a leap year, and the second century leap year in the Gregorian calendar after 1600.\\nThe century had the first global-scale total wars between world powers across continents and oceans in World War I and World War II. Nationalism became a major political issue in the world in the 20th century, acknowledged in international law along with the right of nations to self-determination, official decolonization in the mid-century, and related regional conflicts.\\nThe century saw a major shift in the way that many people lived, with changes in politics, ideology, economics, society, culture, science, technology, and medicine. The 20th century may have seen more technological and scientific progress than all the other centuries combined since the dawn of civilization. Terms like nationalism, globalism, environmentalism, ideology, world war, genocide, and nuclear war entered common usage. Scientific discoveries, such as the theory of relativity and quantum physics, profoundly changed the foundational models of physical science, forcing scientists to realize that the universe was more complex than previously believed, and dashing the hopes (or fears) at the end of the 19th century that the last few details of scientific knowledge were about to be filled in. It was a century that started with horses, simple automobiles, and freighters but ended with high-speed rail, cruise ships, global commercial air travel and the Space Shuttle. Horses and other pack animals, every society\\'s basic form of personal transportation for thousands of years, were replaced by automobiles and buses within a few decades. These developments were made possible by the exploitation of fossil fuel resources, which offered energy in an easily portable form, but also caused concern about pollution and long-term impact on the environment. Humans explored space for the first time, taking their first footsteps on the Moon.\\nMass media, telecommunications, and information technology (especially computers, paperback books, public education, and the Internet) made the world\\'s knowledge more widely available. Advancements in medical technology also improved the health of many people: the global life expectancy increased from 35 years to 65 years. Rapid technological advancements, however, also allowed warfare to reach unprecedented levels of destruction. World War II alone killed over 60 million people, while nuclear weapons gave humankind the means to annihilate itself in a short time. However, these same wars resulted in the destruction of the imperial system. For the first time in human history, empires and their wars of expansion and colonization ceased to be a factor in international affairs, resulting in a far more globalized and cooperative world. The last time major powers clashed openly was in 1945, and since then, violence has seen an unprecedented decline.[11]\\nThe world also became more culturally homogenized than ever with developments in transportation and communications technology, popular music and other influences of Western culture, international corporations, and what was arguably a truly global economy by the end of the 20th century.\\nTechnological advancements during World War I changed the way war was fought, as new inventions such as tanks, chemical weapons, and aircraft modified tactics and strategy. After more than four years of trench warfare in Western Europe, and 20 million dead, the powers that had formed the Triple Entente (France, Britain, and Russia, later replaced by the United States and joined by Italy and Romania) emerged victorious over the Central Powers (Germany, Austria-Hungary, the Ottoman Empire and Bulgaria). In addition to annexing many of the colonial possessions of the vanquished states, the Triple Entente exacted punitive restitution payments from them, plunging Germany in particular into economic depression. The Austro-Hungarian and Ottoman empires were dismantled at the war\\'s conclusion. The Russian Revolution resulted in the overthrow of the Tsarist regime of Nicholas II and the onset of the Russian Civil War. The victorious Bolsheviks then established the Soviet Union, the world\\'s first communist state.\\nAt the beginning of the period, the British Empire was the world\\'s most powerful nation,[13] having acted as the world\\'s policeman for the past century. Fascism, a movement which grew out of post-war angst and which accelerated during the Great Depression of the 1930s, gained momentum in Italy, Germany, and Spain in the 1920s and 1930s, culminating in World War II, sparked by Nazi Germany\\'s aggressive expansion at the expense of its neighbors. Meanwhile, Japan had rapidly transformed itself into a technologically advanced industrial power and, along with Germany and Italy, formed the Axis powers. Japan\\'s military expansionism in East Asia and the Pacific Ocean brought it into conflict with the United States, culminating in a surprise attack which drew the US into World War II. After some years of dramatic military success, Germany was defeated in 1945, having been invaded by the Soviet Union and Poland from the East and by the United States, the United Kingdom, Canada, and France from the West. After the victory of the Allies in Europe, the war in Asia ended with the Soviet invasion of Manchuria and the dropping of two atomic bombs on Japan by the US, the first nation to develop nuclear weapons and the only one to use them in warfare. In total, World War II left some 60 million people dead. After the war, Germany was occupied and divided between the Western powers and the Soviet Union. East Germany and the rest of Eastern Europe became Soviet puppet states under communist rule. Western Europe was rebuilt with the aid of the American Marshall Plan, resulting in a major post-war economic boom, and many of the affected nations became close allies of the United States.\\nWith the Axis defeated and Britain and France rebuilding, the United States and the Soviet Union were left standing as the world\\'s only superpowers. Allies during the war, they soon became hostile to one another as their competing ideologies of communism and democratic capitalism proliferated in Europe, which became divided by the Iron Curtain and the Berlin Wall. They formed competing military alliances (NATO and the Warsaw Pact) which engaged in a decades-long standoff known as the Cold War. The period was marked by a new arms race as the USSR became the second nation to develop nuclear weapons, which were produced by both sides in sufficient numbers to end most human life on the planet had a large-scale nuclear exchange ever occurred. Mutually assured destruction is credited by many historians as having prevented such an exchange, each side being unable to strike first at the other without ensuring an equally devastating retaliatory strike. Unable to engage one another directly, the conflict played out in a series of proxy wars around the world—particularly in China, Korea, Cuba, Vietnam, and Afghanistan—as the USSR sought to export communism while the US attempted to contain it. The technological competition between the two sides led to substantial investment in research and development which produced innovations that reached far beyond the battlefield, such as space exploration and the Internet.\\nIn the latter half of the century, most of the European-colonized world in Africa and Asia gained independence in a process of decolonization. Meanwhile, globalization opened the door for several nations to exert a strong influence over many world affairs. The US\\'s global military presence spread American culture around the world with the advent of the Hollywood motion picture industry, Broadway, rock and roll, pop music, fast food, big-box stores, and the hip-hop lifestyle. Britain also continued to influence world culture, including the \"British Invasion\" into American music, leading many rock bands from other countries (such as Swedish ABBA) to sing in English. After the Soviet Union collapsed under internal pressure in 1991, most of the communist governments it had supported around the world were dismantled—with the notable exceptions of China, North Korea, Cuba, Vietnam, and Laos—followed by awkward transitions into market economies.\\nFollowing World War II, the United Nations, successor to the League of Nations, was established as an international forum in which the world\\'s nations could discuss issues diplomatically. It enacted resolutions on such topics as the conduct of warfare, environmental protection, international sovereignty, and human rights. Peacekeeping forces consisting of troops provided by various countries, with various United Nations and other aid agencies, helped to relieve famine, disease, and poverty, and to suppress some local armed conflicts. Europe slowly united, economically and, in some ways, politically, to form the European Union, which consisted of 15 European countries by the end of the 20th century.\\nDue to continuing industrialization and expanding trade, many significant changes of the century were, directly or indirectly, economic and technological in nature. Inventions such as the light bulb, the automobile, and the telephone in the late 19th century, followed by supertankers, airliners, motorways, radio, television, antibiotics, nuclear power, frozen food, computers and microcomputers, the Internet, and mobile telephones affected people\\'s quality of life across the developed world. Scientific research, engineering professionalization and technological development—much of it motivated by the Cold War arms race—drove changes in everyday life.\\nAt the beginning of the century, strong discrimination based on race and sex was significant in most societies. Although the Atlantic slave trade had ended in the 19th century, movements for equality for non-white people in the white-dominated societies of North America, Europe, and South Africa continued. By the end of the 20th century, in many parts of the world, women had the same legal rights as men, and racism had come to be seen as unacceptable, often backed up by legislation.[14] Attitudes towards homosexuality also began to change in the later part of the century. When the Republic of India was constituted, the disadvantaged classes of the caste system in India became entitled to affirmative action benefits in education, employment and government.[15][16]\\nCommunications and information technology, transportation technology, and medical advances had radically altered daily lives. Europe appeared to be at a sustainable peace for the first time in recorded history. The people of the Indian subcontinent, a sixth of the world population at the end of the 20th century, had attained an indigenous independence for the first time in centuries. China, an ancient nation comprising a fifth of the world population, was finally open to the world, creating a new state after the near-complete destruction of the old cultural order. With the end of colonialism and the Cold War, nearly a billion people in Africa were left in new nation states after centuries of foreign domination.\\nThe world was undergoing its second major period of globalization; the first, which started in the 18th century, having been terminated by World War I. Since the US was in a dominant position, a major part of the process was Americanization. The influence of China and India was also rising, as the world\\'s largest populations were rapidly integrating with the world economy.\\nTerrorism, dictatorship, and the spread of nuclear weapons were pressing global issues. The world was still blighted by small-scale wars and other violent conflicts, fueled by competition over resources and by ethnic conflicts.\\nDisease threatened to destabilize many regions of the world. New viruses such as the West Nile virus continued to spread. Malaria and other diseases affected large populations. Millions were infected with HIV, the virus which causes AIDS. The virus was becoming an epidemic in southern Africa.\\nBased on research done by climate scientists, the majority of the scientific community consider that in the long term environmental problems may threaten the planet\\'s habitability.[17] One argument is that of global warming occurring due to human-caused emission of greenhouse gases, particularly carbon dioxide produced by the burning of fossil fuels.[18] This prompted many nations to negotiate and sign the Kyoto treaty, which set mandatory limits on carbon dioxide emissions.\\nWorld population increased from about 1.6\\xa0billion people in 1901 to 6.1\\xa0billion at the century\\'s end.[19][20]\\nThe number of people killed during the century by government actions was in the hundreds of millions. This includes deaths caused by wars, genocide, politicide and mass murders. The deaths from acts of war during the two world wars alone have been estimated at between 50 and 80 million.[citation needed] Political scientist Rudolph Rummel estimated 262,000,000 deaths caused by democide, which excludes those killed in war battles, civilians unintentionally killed in war and killings of rioting mobs.[21] According to Charles Tilly, \"Altogether, about 100 million people died as a direct result of action by organized military units backed by one government or another over the course of the century. Most likely a comparable number of civilians died of war-induced disease and other indirect effects.\"[22] It is estimated that approximately 70 million Europeans died through war, violence and famine between 1914 and 1945.[23]\\nThe invention of music recording technologies such as the phonograph record, and dissemination technologies such as radio broadcasting, massively expanded the audience for music. Prior to the 20th century, music was generally only experienced in live performances. Many new genres of music were established during the 20th century.\\nFilm as an artistic medium was created in the 20th century. The first modern movie theatre was established in Pittsburgh in 1905.[29] Hollywood developed as the center of American film production. While the first films were in black and white, technicolor was developed in the 1920s to allow for color films. Sound films were developed, with the first full-length feature film, The Jazz Singer, released in 1927. The Academy Awards were established in 1929. Animation was also developed in the 1920s, with the first full-length cel animated feature film Snow White and the Seven Dwarfs, released in 1937. Computer-generated imagery was developed in the 1980s, with the first full-length CGI-animated film Toy Story was released in 1995.\\nVideo games—due to the great technological steps forward in computing since the second post-war period—are the new form of entertainment emerged in the 20th century alongside films.\\nMultiple new fields of mathematics were developed in the 20th century. In the first part of the 20th century, measure theory, functional analysis, and topology were established, and significant developments were made in fields such as abstract algebra and probability. The development of set theory and formal logic led to Gödel\\'s incompleteness theorems.\\nLater in the 20th century, the development of computers led to the establishment of a theory of computation.[33] Other computationally-intense results include the study of fractals[34] and a proof of the four color theorem in 1976.[35]\\nOne of the prominent traits of the 20th century was the dramatic growth of technology. Organized research and practice of science led to advancement in the fields of communication, electronics, engineering, travel, medicine, and war.\\nA technological revolution began in the late 20th century, variously called the Digital Revolution, the information revolution,[40][41][42] the electronics revolution,[43] the microelectronic revolution,[44] the Information Age,[45] the silicon revolution,[46][47] the Silicon Age,[46][47][48] and/or the third industrial revolution.[49]\\n'"
      ]
     },
     "execution_count": 160,
     "metadata": {},
     "output_type": "execute_result"
    }
   ],
   "source": [
    "article_content"
   ]
  },
  {
   "cell_type": "code",
   "execution_count": null,
   "id": "418c030d",
   "metadata": {},
   "outputs": [],
   "source": []
  },
  {
   "cell_type": "code",
   "execution_count": 161,
   "id": "fb647617",
   "metadata": {},
   "outputs": [],
   "source": [
    "sample_text = PlaintextParser(article_content,Tokenizer('english'))"
   ]
  },
  {
   "cell_type": "code",
   "execution_count": 162,
   "id": "f45af38e",
   "metadata": {},
   "outputs": [],
   "source": [
    "objLuh=LuhnSummarizer()"
   ]
  },
  {
   "cell_type": "code",
   "execution_count": 163,
   "id": "f83c2d7b",
   "metadata": {},
   "outputs": [],
   "source": [
    "finalSummary= objLuh(sample_text.document,sentences_count=1)"
   ]
  },
  {
   "cell_type": "code",
   "execution_count": 164,
   "id": "320cebea",
   "metadata": {},
   "outputs": [
    {
     "name": "stdout",
     "output_type": "stream",
     "text": [
      "After more than four years of trench warfare in Western Europe, and 20 million dead, the powers that had formed the Triple Entente (France, Britain, and Russia, later replaced by the United States and joined by Italy and Romania) emerged victorious over the Central Powers (Germany, Austria-Hungary, the Ottoman Empire and Bulgaria).\n"
     ]
    }
   ],
   "source": [
    "for sen in finalSummary:\n",
    "    print(sen)"
   ]
  },
  {
   "cell_type": "code",
   "execution_count": null,
   "id": "9d22f0d0",
   "metadata": {},
   "outputs": [],
   "source": []
  },
  {
   "cell_type": "code",
   "execution_count": null,
   "id": "e616ff46",
   "metadata": {},
   "outputs": [],
   "source": []
  }
 ],
 "metadata": {
  "kernelspec": {
   "display_name": "Python 3",
   "language": "python",
   "name": "python3"
  },
  "language_info": {
   "codemirror_mode": {
    "name": "ipython",
    "version": 3
   },
   "file_extension": ".py",
   "mimetype": "text/x-python",
   "name": "python",
   "nbconvert_exporter": "python",
   "pygments_lexer": "ipython3",
   "version": "3.8.8"
  }
 },
 "nbformat": 4,
 "nbformat_minor": 5
}
