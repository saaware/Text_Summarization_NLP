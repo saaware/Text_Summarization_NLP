{
 "cells": [
  {
   "cell_type": "code",
   "execution_count": null,
   "id": "c89b39ac",
   "metadata": {},
   "outputs": [],
   "source": []
  },
  {
   "cell_type": "code",
   "execution_count": 132,
   "id": "8592530f",
   "metadata": {},
   "outputs": [],
   "source": [
    "with open(\"abc.txt\",\"r\") as data:\n",
    "    text=data.read()"
   ]
  },
  {
   "cell_type": "code",
   "execution_count": 133,
   "id": "f5c806d0",
   "metadata": {},
   "outputs": [],
   "source": [
    "text = text.replace(\"\\n\",\"\")\n",
    "text = text.replace(\"[\",\"\")\n",
    "text = text.replace(\"]\",\"\")"
   ]
  },
  {
   "cell_type": "code",
   "execution_count": 134,
   "id": "9c582810",
   "metadata": {},
   "outputs": [],
   "source": [
    "import re\n",
    "text =  re.sub(\"\\d+\", \"\", text)"
   ]
  },
  {
   "cell_type": "code",
   "execution_count": 135,
   "id": "cf9537dc",
   "metadata": {},
   "outputs": [
    {
     "data": {
      "text/plain": [
       "'Sachin Ramesh Tendulkar  (About this soundlisten); born  April ) is an Indian former international cricketer who served as captain of the Indian national team. He is widely regarded as one of the greatest batsmen in the history of cricket. He is the highest run scorer of all time in international cricket, and the only player to have scored one hundred international centuries, the first batsman to score a double century in a One Day International (ODI), the holder of the record for the most runs in both Test and ODI cricket, and the only player to complete more than , runs in international cricket. In , he was the only Indian cricketer included in an all-time Test World XI named to mark the th anniversary of Wisden Cricketers\\' Almanack. He is affectionately known as \"Little Master\" or \"Master Blaster\"'"
      ]
     },
     "execution_count": 135,
     "metadata": {},
     "output_type": "execute_result"
    }
   ],
   "source": [
    "text"
   ]
  },
  {
   "cell_type": "code",
   "execution_count": 128,
   "id": "a9dc7f6e",
   "metadata": {},
   "outputs": [],
   "source": [
    "from transformers import pipeline"
   ]
  },
  {
   "cell_type": "code",
   "execution_count": 129,
   "id": "bcb21aac",
   "metadata": {},
   "outputs": [],
   "source": [
    "summarizer = pipeline(\"summarization\")"
   ]
  },
  {
   "cell_type": "code",
   "execution_count": 130,
   "id": "30220cee",
   "metadata": {},
   "outputs": [],
   "source": [
    "# to make it proper \n",
    "summary_text = summarizer(text)[0]['summary_text']"
   ]
  },
  {
   "cell_type": "code",
   "execution_count": 131,
   "id": "9cd0970b",
   "metadata": {},
   "outputs": [
    {
     "name": "stdout",
     "output_type": "stream",
     "text": [
      " Sachin Ramesh Tendulkar is the highest run scorer of all time in international cricket . He is widely regarded as one of the greatest batsmen in the history of cricket . The only player to have scored one hundred international centuries, the first batsman to score a double century in a One Day International (ODI)\n"
     ]
    }
   ],
   "source": [
    "print(summary_text)"
   ]
  },
  {
   "cell_type": "code",
   "execution_count": null,
   "id": "fb656cf3",
   "metadata": {},
   "outputs": [],
   "source": []
  },
  {
   "cell_type": "code",
   "execution_count": null,
   "id": "08c73001",
   "metadata": {},
   "outputs": [],
   "source": []
  },
  {
   "cell_type": "code",
   "execution_count": null,
   "id": "47409bbb",
   "metadata": {},
   "outputs": [],
   "source": []
  },
  {
   "cell_type": "code",
   "execution_count": null,
   "id": "7504f177",
   "metadata": {},
   "outputs": [],
   "source": []
  },
  {
   "cell_type": "code",
   "execution_count": null,
   "id": "9af41575",
   "metadata": {},
   "outputs": [],
   "source": []
  }
 ],
 "metadata": {
  "kernelspec": {
   "display_name": "Python 3",
   "language": "python",
   "name": "python3"
  },
  "language_info": {
   "codemirror_mode": {
    "name": "ipython",
    "version": 3
   },
   "file_extension": ".py",
   "mimetype": "text/x-python",
   "name": "python",
   "nbconvert_exporter": "python",
   "pygments_lexer": "ipython3",
   "version": "3.8.8"
  }
 },
 "nbformat": 4,
 "nbformat_minor": 5
}
